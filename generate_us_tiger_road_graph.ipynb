{
 "cells": [
  {
   "cell_type": "code",
   "execution_count": 1,
   "metadata": {},
   "outputs": [],
   "source": [
    "# Import libraries\n",
    "import cudf\n",
    "import pandas as pd\n",
    "from numba import cuda\n",
    "import shapefile as sh\n",
    "import numpy as np\n",
    "import math"
   ]
  },
  {
   "cell_type": "code",
   "execution_count": 2,
   "metadata": {},
   "outputs": [],
   "source": [
    "# Read in US Tiger Line Edge shapefile (Example here is King County)\n",
    "shp_name = \"/data/us_tiger/king_county/tl_2018_53033_edges.shp\"\n",
    "sf = sh.Reader(shp_name)"
   ]
  },
  {
   "cell_type": "code",
   "execution_count": 3,
   "metadata": {},
   "outputs": [],
   "source": [
    "# Get field positions for road type and nodes\n",
    "fields = list(zip(*sf.fields))\n",
    "mtfcc_pos = fields[0].index('MTFCC') - 1\n",
    "roadflg_pos = fields[0].index('ROADFLG') - 1\n",
    "nodef_pos = fields[0].index('TNIDF') - 1\n",
    "nodet_pos = fields[0].index('TNIDT') - 1"
   ]
  },
  {
   "cell_type": "code",
   "execution_count": 4,
   "metadata": {},
   "outputs": [],
   "source": [
    "# Parse shape file into list of edges and their constituent vectors\n",
    "vectors = []\n",
    "edges = []\n",
    "# Read nodes into a dictionary to de-duplicate\n",
    "nodes = {}\n",
    "node_num = 0\n",
    "mtfcc = []\n",
    "# Iterate through shapefile shape objects\n",
    "for i,geo in enumerate(sf.shapes()):\n",
    "    # Get the shape attributes\n",
    "    attr = sf.record(i)\n",
    "    # Check that the edge is a road\n",
    "    if attr[roadflg_pos] == 'Y':\n",
    "        # Test if mtfcc (edge classification) is in list, if not add it\n",
    "        if attr[mtfcc_pos] not in mtfcc:\n",
    "            mtfcc += [attr[mtfcc_pos]]\n",
    "        # Test if from node exists\n",
    "        if attr[nodef_pos] not in nodes:\n",
    "            # If not, add it to the dictionary with coordinates of first point of vector\n",
    "            nodes[attr[nodef_pos]] = [node_num,geo.points[0][0],geo.points[0][1]]\n",
    "            node_num += 1\n",
    "        # Test if to node exists\n",
    "        if attr[nodet_pos] not in nodes:\n",
    "            # If not, add it to the dictionary with coordinates of last point of vector\n",
    "            nodes[attr[nodet_pos]] = [node_num,geo.points[-1][0],geo.points[-1][1]]\n",
    "            node_num += 1\n",
    "        # Add edge to table \n",
    "        edges += [[i,nodes[attr[nodef_pos]][0],nodes[attr[nodet_pos]][0],attr[mtfcc_pos]]]\n",
    "        # Add edge to table with from and too nodes reversed\n",
    "        edges += [[i,nodes[attr[nodet_pos]][0],nodes[attr[nodef_pos]][0],attr[mtfcc_pos]]]\n",
    "        # Unravel and serialise the vector points into a list\n",
    "        for p in geo.points:\n",
    "            vectors += [[i,p[0],p[1]]]\n",
    "# Sort mtfcc\n",
    "mtfcc.sort()"
   ]
  },
  {
   "cell_type": "code",
   "execution_count": 5,
   "metadata": {},
   "outputs": [],
   "source": [
    "# Zip the vector points and copy to cudf DataFrame\n",
    "vz = list(zip(*vectors))\n",
    "vector_df = cudf.DataFrame()\n",
    "vector_df['id'] = vz[0]\n",
    "vector_df['lon'] = vz[1]\n",
    "vector_df['lat'] = vz[2]"
   ]
  },
  {
   "cell_type": "code",
   "execution_count": 6,
   "metadata": {},
   "outputs": [],
   "source": [
    "# Zip the node points and copy to cudf DataFrame\n",
    "nz = list(zip(*sorted(nodes.values())))\n",
    "node_df = cudf.DataFrame()\n",
    "node_df['id'] = nz[0]\n",
    "node_df['lon'] = nz[1]\n",
    "node_df['lat'] = nz[2]"
   ]
  },
  {
   "cell_type": "code",
   "execution_count": 7,
   "metadata": {},
   "outputs": [],
   "source": [
    "# Zip the edges and copy to cudf DataFrame\n",
    "ez = list(zip(*edges))\n",
    "edge_df = cudf.DataFrame()\n",
    "edge_df['id'] = ez[0]\n",
    "edge_df['src'] = ez[1]\n",
    "edge_df['dst'] = ez[2]\n",
    "edge_df['mtfcc'] = [mtfcc.index(m) for m in ez[3]]"
   ]
  },
  {
   "cell_type": "code",
   "execution_count": 8,
   "metadata": {},
   "outputs": [
    {
     "name": "stdout",
     "output_type": "stream",
     "text": [
      "            id         lon        lat\n",
      "0            1 -121.781978  47.408331\n",
      "1            1 -121.781920  47.408344\n",
      "2            2 -121.781920  47.408344\n",
      "3            2 -121.780622  47.408632\n",
      "4            3 -122.188432  47.318418\n",
      "5            3 -122.188419  47.318221\n",
      "6            3 -122.188425  47.318168\n",
      "7            3 -122.188512  47.318034\n",
      "8            4 -122.038309  47.244633\n",
      "9            4 -122.038323  47.244663\n",
      "10           4 -122.038358  47.244685\n",
      "11           4 -122.038403  47.244691\n",
      "12           4 -122.038447  47.244681\n",
      "13           4 -122.038473  47.244665\n",
      "14           4 -122.038488  47.244638\n",
      "15           4 -122.038486  47.244604\n",
      "16           4 -122.038468  47.244582\n",
      "17           4 -122.038427  47.244564\n",
      "18           4 -122.038389  47.244561\n",
      "19           4 -122.038351  47.244570\n",
      "20           4 -122.038319  47.244593\n",
      "21           4 -122.038308  47.244618\n",
      "22           4 -122.038309  47.244633\n",
      "23           5 -121.635090  47.233126\n",
      "24           5 -121.635018  47.233141\n",
      "25           5 -121.634802  47.233165\n",
      "26           5 -121.634674  47.233178\n",
      "27           5 -121.634389  47.233170\n",
      "28           5 -121.634087  47.233123\n",
      "29           5 -121.630742  47.232446\n",
      "...        ...         ...        ...\n",
      "923981  206861 -122.250514  47.257408\n",
      "923982  206861 -122.250638  47.257407\n",
      "923983  206861 -122.251164  47.257404\n",
      "923984  206861 -122.251398  47.257403\n",
      "923985  206865 -122.314859  47.257295\n",
      "923986  206865 -122.314916  47.257296\n",
      "923987  206865 -122.315296  47.257305\n",
      "923988  206865 -122.315572  47.257312\n",
      "923989  206865 -122.315640  47.257314\n",
      "923990  206868 -122.366914  47.777750\n",
      "923991  206868 -122.366685  47.777743\n",
      "923992  206871 -122.301763  47.777461\n",
      "923993  206871 -122.301552  47.777459\n",
      "923994  206871 -122.301482  47.777458\n",
      "923995  206871 -122.301363  47.777456\n",
      "923996  206871 -122.301301  47.777456\n",
      "923997  206872 -122.313422  47.777570\n",
      "923998  206872 -122.313328  47.777569\n",
      "923999  206872 -122.313144  47.777567\n",
      "924000  206873 -122.352352  47.777778\n",
      "924001  206873 -122.351807  47.777780\n",
      "924002  206873 -122.351490  47.777781\n",
      "924003  206877 -122.176555  47.776323\n",
      "924004  206877 -122.175689  47.776319\n",
      "924005  206882 -122.074677  47.775978\n",
      "924006  206882 -122.074647  47.775976\n",
      "924007  206884 -122.095324  47.775964\n",
      "924008  206884 -122.095047  47.775970\n",
      "924009  206884 -122.093493  47.776005\n",
      "924010  206884 -122.092867  47.776018\n",
      "\n",
      "[924011 rows x 3 columns]\n"
     ]
    }
   ],
   "source": [
    "# Check results on vector Dataframe\n",
    "print(vector_df)"
   ]
  },
  {
   "cell_type": "code",
   "execution_count": 9,
   "metadata": {},
   "outputs": [
    {
     "name": "stdout",
     "output_type": "stream",
     "text": [
      "            id         lon        lat\n",
      "0            0 -121.781978  47.408331\n",
      "1            1 -121.781920  47.408344\n",
      "2            2 -121.780622  47.408632\n",
      "3            3 -122.188432  47.318418\n",
      "4            4 -122.188512  47.318034\n",
      "5            5 -122.038309  47.244633\n",
      "6            6 -121.635090  47.233126\n",
      "7            7 -121.630742  47.232446\n",
      "8            8 -121.354531  47.274795\n",
      "9            9 -121.356002  47.276650\n",
      "10          10 -121.837180  47.185363\n",
      "11          11 -121.836133  47.184873\n",
      "12          12 -122.121523  47.250319\n",
      "13          13 -122.120557  47.250328\n",
      "14          14 -122.020366  47.177900\n",
      "15          15 -122.021445  47.178649\n",
      "16          16 -122.019788  47.176851\n",
      "17          17 -122.020842  47.177496\n",
      "18          18 -122.199217  47.313017\n",
      "19          19 -122.199808  47.313996\n",
      "20          20 -121.758851  47.223611\n",
      "21          21 -121.758743  47.223744\n",
      "22          22 -122.103135  47.224471\n",
      "23          23 -122.102282  47.224134\n",
      "24          24 -122.006546  47.319999\n",
      "25          25 -122.007636  47.320066\n",
      "26          26 -121.558019  47.135325\n",
      "27          27 -121.566896  47.138727\n",
      "28          28 -121.548310  47.140810\n",
      "29          29 -121.554685  47.130913\n",
      "...        ...         ...        ...\n",
      "127350  127350 -122.161455  47.352286\n",
      "127351  127351 -122.153781  47.352945\n",
      "127352  127352 -122.110428  47.372188\n",
      "127353  127353 -122.107743  47.368515\n",
      "127354  127354 -122.014681  47.381131\n",
      "127355  127355 -122.033714  47.366199\n",
      "127356  127356 -121.904426  47.465246\n",
      "127357  127357 -122.007447  47.385721\n",
      "127358  127358 -122.119794  47.366434\n",
      "127359  127359 -121.840250  47.428504\n",
      "127360  127360 -122.149309  47.401158\n",
      "127361  127361 -122.157791  47.396630\n",
      "127362  127362 -122.089059  47.386451\n",
      "127363  127363 -122.105697  47.361347\n",
      "127364  127364 -122.156647  47.375944\n",
      "127365  127365 -122.047956  47.392655\n",
      "127366  127366 -122.143527  47.362062\n",
      "127367  127367 -122.023706  47.459296\n",
      "127368  127368 -122.021320  47.459094\n",
      "127369  127369 -122.015477  47.447651\n",
      "127370  127370 -122.136954  47.353085\n",
      "127371  127371 -122.162949  47.369379\n",
      "127372  127372 -122.095577  47.363333\n",
      "127373  127373 -122.095864  47.364769\n",
      "127374  127374 -122.065614  47.381511\n",
      "127375  127375 -121.360285  47.290450\n",
      "127376  127376 -121.431505  47.331052\n",
      "127377  127377 -121.298136  47.148333\n",
      "127378  127378 -122.074677  47.775978\n",
      "127379  127379 -122.095324  47.775964\n",
      "\n",
      "[127380 rows x 3 columns]\n"
     ]
    }
   ],
   "source": [
    "# Check results on node Dataframe\n",
    "print(node_df)"
   ]
  },
  {
   "cell_type": "code",
   "execution_count": 10,
   "metadata": {},
   "outputs": [
    {
     "name": "stdout",
     "output_type": "stream",
     "text": [
      "            id     src     dst  mtfcc\n",
      "0            1       0       1      2\n",
      "1            1       1       0      2\n",
      "2            2       1       2      2\n",
      "3            2       2       1      2\n",
      "4            3       3       4      2\n",
      "5            3       4       3      2\n",
      "6            4       5       5      2\n",
      "7            4       5       5      2\n",
      "8            5       6       7      2\n",
      "9            5       7       6      2\n",
      "10           6       8       9      2\n",
      "11           6       9       8      2\n",
      "12           7      10      11      2\n",
      "13           7      11      10      2\n",
      "14           8      12      13      2\n",
      "15           8      13      12      2\n",
      "16           9      14      15      2\n",
      "17           9      15      14      2\n",
      "18          10      16      17      2\n",
      "19          10      17      16      2\n",
      "20          11      18      19      2\n",
      "21          11      19      18      2\n",
      "22          12      20      21      2\n",
      "23          12      21      20      2\n",
      "24          13      22      23      2\n",
      "25          13      23      22      2\n",
      "26          15      24      25      2\n",
      "27          15      25      24      2\n",
      "28          16      26      27      2\n",
      "29          16      27      26      2\n",
      "...        ...     ...     ...    ...\n",
      "315082  206844  109265   36908      2\n",
      "315083  206844   36908  109265      2\n",
      "315084  206845   36908   61634      2\n",
      "315085  206845   61634   36908      2\n",
      "315086  206848   82346  127377      2\n",
      "315087  206848  127377   82346      2\n",
      "315088  206849  127377   34997      2\n",
      "315089  206849   34997  127377      2\n",
      "315090  206851   61638   36941      2\n",
      "315091  206851   36941   61638      2\n",
      "315092  206860    4314   99636      2\n",
      "315093  206860   99636    4314      2\n",
      "315094  206861   99636   97991      2\n",
      "315095  206861   97991   99636      2\n",
      "315096  206865  117435   61643      2\n",
      "315097  206865   61643  117435      2\n",
      "315098  206868   82351   45246      2\n",
      "315099  206868   45246   82351      2\n",
      "315100  206871  123287   97996      2\n",
      "315101  206871   97996  123287      2\n",
      "315102  206872  108349   35010      2\n",
      "315103  206872   35010  108349      2\n",
      "315104  206873   82357   27289      2\n",
      "315105  206873   27289   82357      2\n",
      "315106  206877   66168   61654      2\n",
      "315107  206877   61654   66168      2\n",
      "315108  206882  127378   69943      2\n",
      "315109  206882   69943  127378      2\n",
      "315110  206884  127379  104619      2\n",
      "315111  206884  104619  127379      2\n",
      "\n",
      "[315112 rows x 4 columns]\n"
     ]
    }
   ],
   "source": [
    "# Check results on edge DataFrame\n",
    "print(edge_df)"
   ]
  },
  {
   "cell_type": "code",
   "execution_count": 11,
   "metadata": {},
   "outputs": [],
   "source": [
    "# Define chunk size and parameters\n",
    "threads_per_block = 128\n",
    "trunk_size = 10240\n",
    "data_length = vector_df['id'].count()"
   ]
  },
  {
   "cell_type": "code",
   "execution_count": 12,
   "metadata": {},
   "outputs": [],
   "source": [
    "# Haversine function for lengths\n",
    "@cuda.jit(device=True)\n",
    "def haversine_distance(lon_1, lat_1, lon_2, lat_2):\n",
    "    lon_1 = lon_1 * math.pi / 180.0 \n",
    "    lon_2 = lon_2 * math.pi / 180.0 \n",
    "    lat_1 = lat_1 * math.pi / 180.0 \n",
    "    lat_2 = lat_2 * math.pi / 180.0\n",
    "    d_lon = lon_2 - lon_1 \n",
    "    d_lat = lat_2 - lat_1 \n",
    "    a = math.sin(d_lat/2)**2 + math.cos(lat_1) * math.cos(lat_2) * math.sin(d_lon/2)**2\n",
    "    return 2 * math.asin(math.sqrt(a)) * 6371000.0"
   ]
  },
  {
   "cell_type": "code",
   "execution_count": 13,
   "metadata": {},
   "outputs": [],
   "source": [
    "# Window function to calculate distance between adjacent points in feet\n",
    "def adjacent_distance(id, lon, lat, dist):\n",
    "    for i in range(cuda.threadIdx.x, id.size, cuda.blockDim.x):\n",
    "        # If the first point of vector return zero length\n",
    "        if i == 0:\n",
    "            dist[i] = 0.0\n",
    "        # Or if the vector changes (1st point of new vector)\n",
    "        elif id[i] != id[i-1]:\n",
    "            dist[i] = 0.0\n",
    "        else:\n",
    "            dist[i] = haversine_distance(lon[i],lat[i],lon[i-1],lat[i-1]) * 3.280839895013123"
   ]
  },
  {
   "cell_type": "code",
   "execution_count": 14,
   "metadata": {},
   "outputs": [
    {
     "name": "stdout",
     "output_type": "stream",
     "text": [
      "CPU times: user 445 ms, sys: 365 µs, total: 445 ms\n",
      "Wall time: 444 ms\n"
     ]
    }
   ],
   "source": [
    "%%time\n",
    "# Apply the window function\n",
    "vector_df = vector_df.apply_chunks(adjacent_distance,\n",
    "                     incols=['id','lon','lat'],\n",
    "                     outcols=dict(dist=np.float64),\n",
    "                     kwargs=dict(),\n",
    "                     chunks=list(range(0, data_length,\n",
    "                                       trunk_size))+ [data_length],\n",
    "                     tpb=threads_per_block)"
   ]
  },
  {
   "cell_type": "code",
   "execution_count": 15,
   "metadata": {},
   "outputs": [
    {
     "name": "stdout",
     "output_type": "stream",
     "text": [
      "            id         lon        lat        dist\n",
      "0            1 -121.781978  47.408331    0.000000\n",
      "1            1 -121.781920  47.408344   15.084758\n",
      "2            2 -121.781920  47.408344    0.000000\n",
      "3            2 -121.780622  47.408632  337.250971\n",
      "4            3 -122.188432  47.318418    0.000000\n",
      "5            3 -122.188419  47.318221   71.939992\n",
      "6            3 -122.188425  47.318168   19.391934\n",
      "7            3 -122.188512  47.318034   53.410635\n",
      "8            4 -122.038309  47.244633    0.000000\n",
      "9            4 -122.038323  47.244663   11.480474\n",
      "10           4 -122.038358  47.244685   11.813160\n",
      "11           4 -122.038403  47.244691   11.357620\n",
      "12           4 -122.038447  47.244681   11.491489\n",
      "13           4 -122.038473  47.244665    8.690997\n",
      "14           4 -122.038488  47.244638   10.527198\n",
      "15           4 -122.038486  47.244604   12.413520\n",
      "16           4 -122.038468  47.244582    9.180824\n",
      "17           4 -122.038427  47.244564   12.092395\n",
      "18           4 -122.038389  47.244561    9.474526\n",
      "19           4 -122.038351  47.244570    9.967397\n",
      "20           4 -122.038319  47.244593   11.541729\n",
      "21           4 -122.038308  47.244618    9.518499\n",
      "22           4 -122.038309  47.244633    5.477793\n",
      "23           5 -121.635090  47.233126    0.000000\n",
      "24           5 -121.635018  47.233141   18.656010\n",
      "25           5 -121.634802  47.233165   54.217831\n",
      "26           5 -121.634674  47.233178   32.060089\n",
      "27           5 -121.634389  47.233170   70.658740\n",
      "28           5 -121.634087  47.233123   76.749402\n",
      "29           5 -121.630742  47.232446  864.633370\n",
      "...        ...         ...        ...         ...\n",
      "923981  206861 -122.250514  47.257408   29.466721\n",
      "923982  206861 -122.250638  47.257407   30.704633\n",
      "923983  206861 -122.251164  47.257404  130.242483\n",
      "923984  206861 -122.251398  47.257403   57.939677\n",
      "923985  206865 -122.314859  47.257295    0.000000\n",
      "923986  206865 -122.314916  47.257296   14.117974\n",
      "923987  206865 -122.315296  47.257305   94.145662\n",
      "923988  206865 -122.315572  47.257312   68.385572\n",
      "923989  206865 -122.315640  47.257314   16.852668\n",
      "923990  206868 -122.366914  47.777750    0.000000\n",
      "923991  206868 -122.366685  47.777743   56.199045\n",
      "923992  206871 -122.301763  47.777461    0.000000\n",
      "923993  206871 -122.301552  47.777459   51.733596\n",
      "923994  206871 -122.301482  47.777458   17.164975\n",
      "923995  206871 -122.301363  47.777456   29.182990\n",
      "923996  206871 -122.301301  47.777456   15.199830\n",
      "923997  206872 -122.313422  47.777570    0.000000\n",
      "923998  206872 -122.313328  47.777569   23.047741\n",
      "923999  206872 -122.313144  47.777567   45.114977\n",
      "924000  206873 -122.352352  47.777778    0.000000\n",
      "924001  206873 -122.351807  47.777780  133.612574\n",
      "924002  206873 -122.351490  47.777781   77.715633\n",
      "924003  206877 -122.176555  47.776323    0.000000\n",
      "924004  206877 -122.175689  47.776319  212.316957\n",
      "924005  206882 -122.074677  47.775978    0.000000\n",
      "924006  206882 -122.074647  47.775976    7.391067\n",
      "924007  206884 -122.095324  47.775964    0.000000\n",
      "924008  206884 -122.095047  47.775970   67.946131\n",
      "924009  206884 -122.093493  47.776005  381.201054\n",
      "924010  206884 -122.092867  47.776018  153.546777\n",
      "\n",
      "[924011 rows x 4 columns]\n"
     ]
    }
   ],
   "source": [
    "# Check the result\n",
    "print(vector_df)"
   ]
  },
  {
   "cell_type": "code",
   "execution_count": 16,
   "metadata": {},
   "outputs": [
    {
     "name": "stdout",
     "output_type": "stream",
     "text": [
      "CPU times: user 95.8 ms, sys: 0 ns, total: 95.8 ms\n",
      "Wall time: 94.4 ms\n"
     ]
    }
   ],
   "source": [
    "%%time\n",
    "# Group by and sum the distances for each edge\n",
    "distance_df = vector_df[['id','dist']].groupby(['id']).sum()\n",
    "distance_df['id'] = distance_df.index"
   ]
  },
  {
   "cell_type": "code",
   "execution_count": 17,
   "metadata": {},
   "outputs": [
    {
     "name": "stdout",
     "output_type": "stream",
     "text": [
      "CPU times: user 26 ms, sys: 11.9 ms, total: 37.8 ms\n",
      "Wall time: 36.2 ms\n"
     ]
    }
   ],
   "source": [
    "%%time\n",
    "# Merge the distances into the edge DataFrame to produce graph\n",
    "edge_df = edge_df.merge(distance_df,on=['id'], how='left').sort_values('id')"
   ]
  },
  {
   "cell_type": "code",
   "execution_count": 18,
   "metadata": {},
   "outputs": [
    {
     "name": "stdout",
     "output_type": "stream",
     "text": [
      "            id     src     dst  mtfcc         dist\n",
      "26368        1       0       1      2    15.084758\n",
      "26369        1       1       0      2    15.084758\n",
      "26370        2       1       2      2   337.250971\n",
      "26371        2       2       1      2   337.250971\n",
      "26372        3       3       4      2   144.742561\n",
      "26373        3       4       3      2   144.742561\n",
      "26374        4       5       5      2   145.027620\n",
      "26375        4       5       5      2   145.027620\n",
      "26376        5       6       7      2  1116.975442\n",
      "26377        5       7       6      2  1116.975442\n",
      "26378        6       8       9      2   937.954515\n",
      "26379        6       9       8      2   937.954515\n",
      "26380        7      10      11      2   315.341735\n",
      "26381        7      11      10      2   315.341735\n",
      "26382        8      12      13      2   239.236642\n",
      "26383        8      13      12      2   239.236642\n",
      "26384        9      14      15      2   382.502849\n",
      "26385        9      15      14      2   382.502849\n",
      "26386       10      16      17      2   374.020454\n",
      "26387       10      17      16      2   374.020454\n",
      "26388       11      18      19      2   386.325038\n",
      "26389       11      19      18      2   386.325038\n",
      "26390       12      20      21      2    56.625633\n",
      "26391       12      21      20      2    56.625633\n",
      "26392       13      22      23      2   273.843146\n",
      "26393       13      23      22      2   273.843146\n",
      "26394       15      24      25      2   271.596036\n",
      "26395       15      25      24      2   271.596036\n",
      "26396       16      26      27      2  2657.198384\n",
      "26397       16      27      26      2  2657.198384\n",
      "...        ...     ...     ...    ...          ...\n",
      "298738  206844  109265   36908      2   656.179664\n",
      "298739  206844   36908  109265      2   656.179664\n",
      "298740  206845   36908   61634      2   381.202622\n",
      "298741  206845   61634   36908      2   381.202622\n",
      "298742  206848   82346  127377      2   678.463336\n",
      "298743  206848  127377   82346      2   678.463336\n",
      "298744  206849  127377   34997      2   888.205608\n",
      "298745  206849   34997  127377      2   888.205608\n",
      "298746  206851   61638   36941      2   252.924586\n",
      "298747  206851   36941   61638      2   252.924586\n",
      "298748  206860    4314   99636      2   262.710865\n",
      "298749  206860   99636    4314      2   262.710865\n",
      "298750  206861   99636   97991      2   248.353514\n",
      "298751  206861   97991   99636      2   248.353514\n",
      "298752  206865  117435   61643      2   193.501876\n",
      "298753  206865   61643  117435      2   193.501876\n",
      "298754  206868   82351   45246      2    56.199045\n",
      "298755  206868   45246   82351      2    56.199045\n",
      "298756  206871  123287   97996      2   113.281391\n",
      "298757  206871   97996  123287      2   113.281391\n",
      "298758  206872  108349   35010      2    68.162718\n",
      "298759  206872   35010  108349      2    68.162718\n",
      "294336  206873   82357   27289      2   211.328207\n",
      "294337  206873   27289   82357      2   211.328207\n",
      "294338  206877   66168   61654      2   212.316957\n",
      "294339  206877   61654   66168      2   212.316957\n",
      "294340  206882  127378   69943      2     7.391067\n",
      "294341  206882   69943  127378      2     7.391067\n",
      "294342  206884  127379  104619      2   602.693962\n",
      "294343  206884  104619  127379      2   602.693962\n",
      "\n",
      "[315112 rows x 5 columns]\n"
     ]
    }
   ],
   "source": [
    "# Check Result\n",
    "print(edge_df)"
   ]
  },
  {
   "cell_type": "code",
   "execution_count": 19,
   "metadata": {},
   "outputs": [],
   "source": [
    "# Save road graph to csv\n",
    "graph_file = shp_name[:-4] + \"_graph.csv\"\n",
    "edge_df.to_pandas().to_csv(graph_file, index=False)"
   ]
  },
  {
   "cell_type": "code",
   "execution_count": 20,
   "metadata": {},
   "outputs": [],
   "source": [
    "# Save road modes to csv\n",
    "node_file = shp_name[:-4] + \"_nodes.csv\"\n",
    "node_df.to_pandas().to_csv(node_file, index=False)"
   ]
  },
  {
   "cell_type": "code",
   "execution_count": 21,
   "metadata": {},
   "outputs": [
    {
     "name": "stdout",
     "output_type": "stream",
     "text": [
      "[(0, 'S1100'), (1, 'S1200'), (2, 'S1400'), (3, 'S1500'), (4, 'S1630'), (5, 'S1640'), (6, 'S1710'), (7, 'S1720'), (8, 'S1730'), (9, 'S1740'), (10, 'S1750'), (11, 'S1780'), (12, 'S1820')]\n"
     ]
    }
   ],
   "source": [
    "# print mtfcc table (used to filter on road type)\n",
    "print([(i,m) for i,m in enumerate(mtfcc)])"
   ]
  },
  {
   "cell_type": "code",
   "execution_count": null,
   "metadata": {},
   "outputs": [],
   "source": []
  }
 ],
 "metadata": {
  "kernelspec": {
   "display_name": "Python 3",
   "language": "python",
   "name": "python3"
  },
  "language_info": {
   "codemirror_mode": {
    "name": "ipython",
    "version": 3
   },
   "file_extension": ".py",
   "mimetype": "text/x-python",
   "name": "python",
   "nbconvert_exporter": "python",
   "pygments_lexer": "ipython3",
   "version": "3.6.7"
  }
 },
 "nbformat": 4,
 "nbformat_minor": 4
}
