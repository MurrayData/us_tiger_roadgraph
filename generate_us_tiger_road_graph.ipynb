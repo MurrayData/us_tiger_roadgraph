{
 "cells": [
  {
   "cell_type": "code",
   "execution_count": 1,
   "metadata": {},
   "outputs": [],
   "source": [
    "# Import libraries\n",
    "import cudf\n",
    "import pandas as pd\n",
    "from numba import cuda\n",
    "import shapefile as sh\n",
    "import numpy as np\n",
    "import math"
   ]
  },
  {
   "cell_type": "code",
   "execution_count": 2,
   "metadata": {},
   "outputs": [],
   "source": [
    "# Read in US Tiger Line Edge shapefile (Example here is King County)\n",
    "shp_name = \"/data/us_tiger/king_county/tl_2018_06085_edges.shp\"\n",
    "sf = sh.Reader(shp_name)"
   ]
  },
  {
   "cell_type": "code",
   "execution_count": 3,
   "metadata": {},
   "outputs": [],
   "source": [
    "# Get field positions for road type and nodes\n",
    "fields = list(zip(*sf.fields))\n",
    "mtfcc_pos = fields[0].index('MTFCC') - 1\n",
    "roadflg_pos = fields[0].index('ROADFLG') - 1\n",
    "nodef_pos = fields[0].index('TNIDF') - 1\n",
    "nodet_pos = fields[0].index('TNIDT') - 1"
   ]
  },
  {
   "cell_type": "code",
   "execution_count": 4,
   "metadata": {},
   "outputs": [],
   "source": [
    "# Parse shape file into list of edges and their constituent vectors\n",
    "vectors = []\n",
    "edges = []\n",
    "# Read nodes into a dictionary to de-duplicate\n",
    "nodes = {}\n",
    "node_num = 0\n",
    "mtfcc = []\n",
    "# Iterate through shapefile shape objects\n",
    "for i,geo in enumerate(sf.shapes()):\n",
    "    # Get the shape attributes\n",
    "    attr = sf.record(i)\n",
    "    # Check that the edge is a road\n",
    "    if attr[roadflg_pos] == 'Y':\n",
    "        # Test if mtfcc (edge classification) is in list, if not add it\n",
    "        if attr[mtfcc_pos] not in mtfcc:\n",
    "            mtfcc += [attr[mtfcc_pos]]\n",
    "        # Test if from node exists\n",
    "        if attr[nodef_pos] not in nodes:\n",
    "            # If not, add it to the dictionary with coordinates of first point of vector\n",
    "            nodes[attr[nodef_pos]] = [node_num,geo.points[0][0],geo.points[0][1]]\n",
    "            node_num += 1\n",
    "        # Test if to node exists\n",
    "        if attr[nodet_pos] not in nodes:\n",
    "            # If not, add it to the dictionary with coordinates of last point of vector\n",
    "            nodes[attr[nodet_pos]] = [node_num,geo.points[-1][0],geo.points[-1][1]]\n",
    "            node_num += 1\n",
    "        # Add edge to table \n",
    "        edges += [[i,nodes[attr[nodef_pos]][0],nodes[attr[nodet_pos]][0],attr[mtfcc_pos]]]\n",
    "        # Add edge to table with from and too nodes reversed\n",
    "        edges += [[i,nodes[attr[nodet_pos]][0],nodes[attr[nodef_pos]][0],attr[mtfcc_pos]]]\n",
    "        # Unravel and serialise the vector points into a list\n",
    "        for p in geo.points:\n",
    "            vectors += [[i,p[0],p[1]]]\n",
    "# Sort mtfcc\n",
    "mtfcc.sort()"
   ]
  },
  {
   "cell_type": "code",
   "execution_count": 5,
   "metadata": {},
   "outputs": [],
   "source": [
    "# Zip the vector points and copy to cudf DataFrame\n",
    "vz = list(zip(*vectors))\n",
    "vector_df = cudf.DataFrame()\n",
    "vector_df['id'] = vz[0]\n",
    "vector_df['lon'] = vz[1]\n",
    "vector_df['lat'] = vz[2]"
   ]
  },
  {
   "cell_type": "code",
   "execution_count": 6,
   "metadata": {},
   "outputs": [],
   "source": [
    "# Zip the node points and copy to cudf DataFrame\n",
    "nz = list(zip(*sorted(nodes.values())))\n",
    "node_df = cudf.DataFrame()\n",
    "node_df['id'] = nz[0]\n",
    "node_df['lon'] = nz[1]\n",
    "node_df['lat'] = nz[2]"
   ]
  },
  {
   "cell_type": "code",
   "execution_count": 7,
   "metadata": {},
   "outputs": [],
   "source": [
    "# Zip the edges and copy to cudf DataFrame\n",
    "ez = list(zip(*edges))\n",
    "edge_df = cudf.DataFrame()\n",
    "edge_df['id'] = ez[0]\n",
    "edge_df['src'] = ez[1]\n",
    "edge_df['dst'] = ez[2]\n",
    "edge_df['mtfcc'] = [mtfcc.index(m) for m in ez[3]]"
   ]
  },
  {
   "cell_type": "code",
   "execution_count": 8,
   "metadata": {},
   "outputs": [
    {
     "name": "stdout",
     "output_type": "stream",
     "text": [
      "            id         lon        lat\n",
      "0            1 -121.606408  37.191532\n",
      "1            1 -121.606128  37.191692\n",
      "2            1 -121.605951  37.191783\n",
      "3            1 -121.605861  37.191814\n",
      "4            1 -121.605767  37.191832\n",
      "5            1 -121.605660  37.191836\n",
      "6            1 -121.605483  37.191840\n",
      "7            1 -121.605306  37.191857\n",
      "8            1 -121.605152  37.191881\n",
      "9            1 -121.604765  37.191944\n",
      "10           1 -121.604598  37.191971\n",
      "11           1 -121.604463  37.191984\n",
      "12           1 -121.604327  37.191989\n",
      "13           1 -121.604044  37.191988\n",
      "14           1 -121.603922  37.192002\n",
      "15           1 -121.603800  37.192030\n",
      "16           1 -121.603692  37.192068\n",
      "17           1 -121.603595  37.192113\n",
      "18           1 -121.603513  37.192156\n",
      "19           1 -121.603336  37.192229\n",
      "20           1 -121.603154  37.192282\n",
      "21           1 -121.603047  37.192309\n",
      "22           1 -121.602962  37.192346\n",
      "23           1 -121.602882  37.192397\n",
      "24           1 -121.602820  37.192454\n",
      "25           1 -121.602768  37.192523\n",
      "26           1 -121.602701  37.192645\n",
      "27           1 -121.602680  37.192709\n",
      "28           1 -121.602654  37.192803\n",
      "29           1 -121.602604  37.193019\n",
      "...        ...         ...        ...\n",
      "622691  107331 -122.086702  37.222764\n",
      "622692  107331 -122.086498  37.222731\n",
      "622693  107331 -122.085860  37.222630\n",
      "622694  107331 -122.084888  37.222527\n",
      "622695  107331 -122.084350  37.222470\n",
      "622696  107331 -122.084253  37.222485\n",
      "622697  107331 -122.084040  37.222520\n",
      "622698  107331 -122.083964  37.222530\n",
      "622699  107331 -122.083868  37.222545\n",
      "622700  107331 -122.083690  37.222570\n",
      "622701  107331 -122.083024  37.222701\n",
      "622702  107331 -122.082830  37.222740\n",
      "622703  107331 -122.082280  37.222930\n",
      "622704  107331 -122.081810  37.223070\n",
      "622705  107331 -122.081550  37.223160\n",
      "622706  107331 -122.081320  37.223190\n",
      "622707  107331 -122.080580  37.223370\n",
      "622708  107331 -122.080546  37.223370\n",
      "622709  107331 -122.080380  37.223370\n",
      "622710  107331 -122.079690  37.223330\n",
      "622711  107332 -121.782390  37.058742\n",
      "622712  107332 -121.782110  37.058480\n",
      "622713  107332 -121.782010  37.058360\n",
      "622714  107332 -121.781940  37.058200\n",
      "622715  107332 -121.781880  37.058030\n",
      "622716  107332 -121.781770  37.057760\n",
      "622717  107332 -121.781660  37.057530\n",
      "622718  107332 -121.781630  37.057140\n",
      "622719  107332 -121.781618  37.057109\n",
      "622720  107332 -121.781593  37.057042\n",
      "\n",
      "[622721 rows x 3 columns]\n"
     ]
    }
   ],
   "source": [
    "# Check results on vector Dataframe\n",
    "print(vector_df)"
   ]
  },
  {
   "cell_type": "code",
   "execution_count": 9,
   "metadata": {},
   "outputs": [
    {
     "name": "stdout",
     "output_type": "stream",
     "text": [
      "          id         lon        lat\n",
      "0          0 -121.606408  37.191532\n",
      "1          1 -121.601716  37.194956\n",
      "2          2 -121.694674  37.234624\n",
      "3          3 -121.694660  37.234351\n",
      "4          4 -121.714070  37.207947\n",
      "5          5 -121.713821  37.207574\n",
      "6          6 -121.671492  37.171718\n",
      "7          7 -121.669070  37.169351\n",
      "8          8 -121.224514  37.078571\n",
      "9          9 -121.229192  37.081465\n",
      "10        10 -121.287002  37.090978\n",
      "11        11 -121.289273  37.081942\n",
      "12        12 -121.288139  37.093572\n",
      "13        13 -121.225910  37.064720\n",
      "14        14 -121.220900  37.065970\n",
      "15        15 -121.213620  37.065230\n",
      "16        16 -121.213180  37.065190\n",
      "17        17 -121.233379  37.040413\n",
      "18        18 -121.234821  37.037263\n",
      "19        19 -121.643220  37.166830\n",
      "20        20 -121.642530  37.166650\n",
      "21        21 -121.673299  37.173286\n",
      "22        22 -121.671692  37.171891\n",
      "23        23 -121.321697  37.033036\n",
      "24        24 -121.311920  37.035880\n",
      "25        25 -121.282233  37.047108\n",
      "26        26 -121.282233  37.046991\n",
      "27        27 -121.376057  37.131779\n",
      "28        28 -121.375166  37.130722\n",
      "29        29 -121.253322  37.052664\n",
      "...      ...         ...        ...\n",
      "74334  74334 -122.147510  37.380430\n",
      "74335  74335 -122.151450  37.386260\n",
      "74336  74336 -121.878440  37.378061\n",
      "74337  74337 -121.877914  37.372730\n",
      "74338  74338 -121.878780  37.373612\n",
      "74339  74339 -121.901464  37.214377\n",
      "74340  74340 -121.902277  37.221472\n",
      "74341  74341 -121.900364  37.221392\n",
      "74342  74342 -121.903477  37.217194\n",
      "74343  74343 -121.864378  37.382541\n",
      "74344  74344 -121.859710  37.380235\n",
      "74345  74345 -121.861297  37.381713\n",
      "74346  74346 -121.865439  37.379482\n",
      "74347  74347 -121.864353  37.380663\n",
      "74348  74348 -121.986532  37.232463\n",
      "74349  74349 -121.793132  37.387129\n",
      "74350  74350 -121.797775  37.386774\n",
      "74351  74351 -121.919985  37.349552\n",
      "74352  74352 -121.916835  37.451391\n",
      "74353  74353 -121.861289  37.288084\n",
      "74354  74354 -121.799338  37.243324\n",
      "74355  74355 -121.945836  37.319154\n",
      "74356  74356 -121.996805  37.364790\n",
      "74357  74357 -121.996356  37.365080\n",
      "74358  74358 -121.948733  37.276733\n",
      "74359  74359 -121.937130  37.227370\n",
      "74360  74360 -121.847377  37.097236\n",
      "74361  74361 -122.054966  37.211616\n",
      "74362  74362 -122.121503  37.258170\n",
      "74363  74363 -122.150539  37.275883\n",
      "\n",
      "[74364 rows x 3 columns]\n"
     ]
    }
   ],
   "source": [
    "# Check results on node Dataframe\n",
    "print(node_df)"
   ]
  },
  {
   "cell_type": "code",
   "execution_count": 10,
   "metadata": {},
   "outputs": [
    {
     "name": "stdout",
     "output_type": "stream",
     "text": [
      "            id    src    dst  mtfcc\n",
      "0            1      0      1      2\n",
      "1            1      1      0      2\n",
      "2            2      2      3      2\n",
      "3            2      3      2      2\n",
      "4            3      4      5      5\n",
      "5            3      5      4      5\n",
      "6            7      6      7      0\n",
      "7            7      7      6      0\n",
      "8           10      8      9      2\n",
      "9           10      9      8      2\n",
      "10          11     10     11      2\n",
      "11          11     11     10      2\n",
      "12          12     12     10      2\n",
      "13          12     10     12      2\n",
      "14          17     13     14      1\n",
      "15          17     14     13      1\n",
      "16          18     15     16      2\n",
      "17          18     16     15      2\n",
      "18          19     17     18      2\n",
      "19          19     18     17      2\n",
      "20          20     19     20      2\n",
      "21          20     20     19      2\n",
      "22          22     21     22      0\n",
      "23          22     22     21      0\n",
      "24          23     23     24      1\n",
      "25          23     24     23      1\n",
      "26          26     25     26      8\n",
      "27          26     26     25      8\n",
      "28          27     27     28      2\n",
      "29          27     28     27      2\n",
      "...        ...    ...    ...    ...\n",
      "188228  107293  72130    579      2\n",
      "188229  107293    579  72130      2\n",
      "188230  107294    579  20465      2\n",
      "188231  107294  20465    579      2\n",
      "188232  107298  64716  58288      2\n",
      "188233  107298  58288  64716      2\n",
      "188234  107305  74361  20472      2\n",
      "188235  107305  20472  74361      2\n",
      "188236  107306  72576  74362      4\n",
      "188237  107306  74362  72576      4\n",
      "188238  107307  74362  68997      2\n",
      "188239  107307  68997  74362      2\n",
      "188240  107318  65196  48798      2\n",
      "188241  107318  48798  65196      2\n",
      "188242  107319  69128  48787      3\n",
      "188243  107319  48787  69128      3\n",
      "188244  107324  72212  36968      2\n",
      "188245  107324  36968  72212      2\n",
      "188246  107327  64344  74363      2\n",
      "188247  107327  74363  64344      2\n",
      "188248  107328  68992  57901      2\n",
      "188249  107328  57901  68992      2\n",
      "188250  107329  64351  72576      4\n",
      "188251  107329  72576  64351      4\n",
      "188252  107330  57900  36536      2\n",
      "188253  107330  36536  57900      2\n",
      "188254  107331  36545  48795      2\n",
      "188255  107331  48795  36545      2\n",
      "188256  107332  36541  37197      3\n",
      "188257  107332  37197  36541      3\n",
      "\n",
      "[188258 rows x 4 columns]\n"
     ]
    }
   ],
   "source": [
    "# Check results on edge DataFrame\n",
    "print(edge_df)"
   ]
  },
  {
   "cell_type": "code",
   "execution_count": 11,
   "metadata": {},
   "outputs": [],
   "source": [
    "# Define chunk size and parameters\n",
    "threads_per_block = 128\n",
    "trunk_size = 10240\n",
    "data_length = vector_df['id'].count()"
   ]
  },
  {
   "cell_type": "code",
   "execution_count": 12,
   "metadata": {},
   "outputs": [],
   "source": [
    "# Haversine function for lengths\n",
    "@cuda.jit(device=True)\n",
    "def haversine_distance(lon_1, lat_1, lon_2, lat_2):\n",
    "    lon_1 = lon_1 * math.pi / 180.0 \n",
    "    lon_2 = lon_2 * math.pi / 180.0 \n",
    "    lat_1 = lat_1 * math.pi / 180.0 \n",
    "    lat_2 = lat_2 * math.pi / 180.0\n",
    "    d_lon = lon_2 - lon_1 \n",
    "    d_lat = lat_2 - lat_1 \n",
    "    a = math.sin(d_lat/2)**2 + math.cos(lat_1) * math.cos(lat_2) * math.sin(d_lon/2)**2\n",
    "    return 2 * math.asin(math.sqrt(a)) * 6371000.0"
   ]
  },
  {
   "cell_type": "code",
   "execution_count": 13,
   "metadata": {},
   "outputs": [],
   "source": [
    "# Window function to calculate distance between adjacent points in feet\n",
    "def adjacent_distance(id, lon, lat, dist):\n",
    "    for i in range(cuda.threadIdx.x, id.size, cuda.blockDim.x):\n",
    "        # If the first point of vector return zero length\n",
    "        if i == 0:\n",
    "            dist[i] = 0.0\n",
    "        # Or if the vector changes (1st point of new vector)\n",
    "        elif id[i] != id[i-1]:\n",
    "            dist[i] = 0.0\n",
    "        else:\n",
    "            dist[i] = haversine_distance(lon[i],lat[i],lon[i-1],lat[i-1]) * 3.280839895013123"
   ]
  },
  {
   "cell_type": "code",
   "execution_count": 14,
   "metadata": {},
   "outputs": [
    {
     "name": "stdout",
     "output_type": "stream",
     "text": [
      "CPU times: user 449 ms, sys: 205 µs, total: 449 ms\n",
      "Wall time: 448 ms\n"
     ]
    }
   ],
   "source": [
    "%%time\n",
    "# Apply the window function\n",
    "vector_df = vector_df.apply_chunks(adjacent_distance,\n",
    "                     incols=['id','lon','lat'],\n",
    "                     outcols=dict(dist=np.float64),\n",
    "                     kwargs=dict(),\n",
    "                     chunks=list(range(0, data_length,\n",
    "                                       trunk_size))+ [data_length],\n",
    "                     tpb=threads_per_block)"
   ]
  },
  {
   "cell_type": "code",
   "execution_count": 15,
   "metadata": {},
   "outputs": [
    {
     "name": "stdout",
     "output_type": "stream",
     "text": [
      "            id         lon        lat        dist\n",
      "0            1 -121.606408  37.191532    0.000000\n",
      "1            1 -121.606128  37.191692  100.142736\n",
      "2            1 -121.605951  37.191783   61.221564\n",
      "3            1 -121.605861  37.191814   28.495687\n",
      "4            1 -121.605767  37.191832   28.096035\n",
      "5            1 -121.605660  37.191836   31.130101\n",
      "6            1 -121.605483  37.191840   51.459671\n",
      "7            1 -121.605306  37.191857   51.811487\n",
      "8            1 -121.605152  37.191881   45.603188\n",
      "9            1 -121.604765  37.191944  114.792486\n",
      "10           1 -121.604598  37.191971   49.522203\n",
      "11           1 -121.604463  37.191984   39.518651\n",
      "12           1 -121.604327  37.191989   39.565725\n",
      "13           1 -121.604044  37.191988   82.244885\n",
      "14           1 -121.603922  37.192002   35.821016\n",
      "15           1 -121.603800  37.192030   36.897160\n",
      "16           1 -121.603692  37.192068   34.311603\n",
      "17           1 -121.603595  37.192113   32.621450\n",
      "18           1 -121.603513  37.192156   28.530124\n",
      "19           1 -121.603336  37.192229   57.923840\n",
      "20           1 -121.603154  37.192282   56.315040\n",
      "21           1 -121.603047  37.192309   32.618451\n",
      "22           1 -121.602962  37.192346   28.149517\n",
      "23           1 -121.602882  37.192397   29.777223\n",
      "24           1 -121.602820  37.192454   27.514606\n",
      "25           1 -121.602768  37.192523   29.359882\n",
      "26           1 -121.602701  37.192645   48.579924\n",
      "27           1 -121.602680  37.192709   24.132442\n",
      "28           1 -121.602654  37.192803   35.114961\n",
      "29           1 -121.602604  37.193019   80.128069\n",
      "...        ...         ...        ...         ...\n",
      "622691  107331 -122.086702  37.222764   11.253793\n",
      "622692  107331 -122.086498  37.222731   60.471791\n",
      "622693  107331 -122.085860  37.222630  188.964163\n",
      "622694  107331 -122.084888  37.222527  284.852641\n",
      "622695  107331 -122.084350  37.222470  157.665020\n",
      "622696  107331 -122.084253  37.222485   28.704708\n",
      "622697  107331 -122.084040  37.222520   63.179679\n",
      "622698  107331 -122.083964  37.222530   22.377190\n",
      "622699  107331 -122.083868  37.222545   28.419570\n",
      "622700  107331 -122.083690  37.222570   52.506697\n",
      "622701  107331 -122.083024  37.222701  199.286192\n",
      "622702  107331 -122.082830  37.222740   58.124595\n",
      "622703  107331 -122.082280  37.222930  174.160550\n",
      "622704  107331 -122.081810  37.223070  145.773066\n",
      "622705  107331 -122.081550  37.223160   82.356606\n",
      "622706  107331 -122.081320  37.223190   67.704291\n",
      "622707  107331 -122.080580  37.223370  224.772005\n",
      "622708  107331 -122.080546  37.223370    9.876806\n",
      "622709  107331 -122.080380  37.223370   48.222051\n",
      "622710  107331 -122.079690  37.223330  200.971587\n",
      "622711  107332 -121.782390  37.058742    0.000000\n",
      "622712  107332 -121.782110  37.058480  125.620594\n",
      "622713  107332 -121.782010  37.058360   52.574040\n",
      "622714  107332 -121.781940  37.058200   61.825289\n",
      "622715  107332 -121.781880  37.058030   64.431175\n",
      "622716  107332 -121.781770  37.057760  103.574606\n",
      "622717  107332 -121.781660  37.057530   89.810572\n",
      "622718  107332 -121.781630  37.057140  142.544798\n",
      "622719  107332 -121.781618  37.057109   11.836517\n",
      "622720  107332 -121.781593  37.057042   25.503094\n",
      "\n",
      "[622721 rows x 4 columns]\n"
     ]
    }
   ],
   "source": [
    "# Check the result\n",
    "print(vector_df)"
   ]
  },
  {
   "cell_type": "code",
   "execution_count": 16,
   "metadata": {},
   "outputs": [
    {
     "name": "stdout",
     "output_type": "stream",
     "text": [
      "CPU times: user 90.4 ms, sys: 3.63 ms, total: 94 ms\n",
      "Wall time: 92.8 ms\n"
     ]
    }
   ],
   "source": [
    "%%time\n",
    "# Group by and sum the distances for each edge\n",
    "distance_df = vector_df[['id','dist']].groupby(['id']).sum()\n",
    "distance_df['id'] = distance_df.index"
   ]
  },
  {
   "cell_type": "code",
   "execution_count": 17,
   "metadata": {},
   "outputs": [
    {
     "name": "stdout",
     "output_type": "stream",
     "text": [
      "CPU times: user 18.9 ms, sys: 15.7 ms, total: 34.6 ms\n",
      "Wall time: 33.2 ms\n"
     ]
    }
   ],
   "source": [
    "%%time\n",
    "# Merge the distances into the edge DataFrame to produce graph\n",
    "edge_df = edge_df.merge(distance_df,on=['id'], how='left').sort_values('id')"
   ]
  },
  {
   "cell_type": "code",
   "execution_count": 18,
   "metadata": {},
   "outputs": [
    {
     "name": "stdout",
     "output_type": "stream",
     "text": [
      "            id    src    dst  mtfcc         dist\n",
      "52512        1      0      1      2  2129.795165\n",
      "52513        1      1      0      2  2129.795165\n",
      "52514        2      2      3      2    99.701199\n",
      "52515        2      3      2      2    99.701199\n",
      "52516        3      4      5      5   414.540894\n",
      "52517        3      5      4      5   414.540894\n",
      "52518        7      6      7      0  1114.588020\n",
      "52519        7      7      6      0  1114.588020\n",
      "52520       10      8      9      2  1801.042657\n",
      "52521       10      9      8      2  1801.042657\n",
      "52522       11     10     11      2  3362.048365\n",
      "52523       11     11     10      2  3362.048365\n",
      "52524       12     12     10      2  1170.219255\n",
      "52525       12     10     12      2  1170.219255\n",
      "52526       17     13     14      1  1529.094091\n",
      "52527       17     14     13      1  1529.094091\n",
      "52528       18     15     16      2   128.913876\n",
      "52529       18     16     15      2   128.913876\n",
      "52530       19     17     18      2  1284.591833\n",
      "52531       19     18     17      2  1284.591833\n",
      "52532       20     19     20      2   211.389270\n",
      "52533       20     20     19      2   211.389270\n",
      "52534       22     21     22      0   690.805017\n",
      "52535       22     22     21      0   690.805017\n",
      "52536       23     23     24      1  3034.411754\n",
      "52537       23     24     23      1  3034.411754\n",
      "52538       26     25     26      8    42.683092\n",
      "52539       26     26     25      8    42.683092\n",
      "52540       27     27     28      2   465.132654\n",
      "52541       27     28     27      2   465.132654\n",
      "...        ...    ...    ...    ...          ...\n",
      "170758  107293  72130    579      2    71.177170\n",
      "170759  107293    579  72130      2    71.177170\n",
      "170760  107294    579  20465      2   277.797675\n",
      "170761  107294  20465    579      2   277.797675\n",
      "170762  107298  64716  58288      2    28.325635\n",
      "170763  107298  58288  64716      2    28.325635\n",
      "170764  107305  74361  20472      2   829.992359\n",
      "170765  107305  20472  74361      2   829.992359\n",
      "170766  107306  72576  74362      4   147.579757\n",
      "170767  107306  74362  72576      4   147.579757\n",
      "170768  107307  74362  68997      2   250.058826\n",
      "170769  107307  68997  74362      2   250.058826\n",
      "170770  107318  65196  48798      2  1781.815541\n",
      "170771  107318  48798  65196      2  1781.815541\n",
      "170772  107319  69128  48787      3  2496.409858\n",
      "170773  107319  48787  69128      3  2496.409858\n",
      "170774  107324  72212  36968      2   361.714658\n",
      "170775  107324  36968  72212      2   361.714658\n",
      "170776  107327  64344  74363      2  2262.299080\n",
      "170777  107327  74363  64344      2  2262.299080\n",
      "170778  107328  68992  57901      2   970.808958\n",
      "170779  107328  57901  68992      2   970.808958\n",
      "170780  107329  64351  72576      4   171.539570\n",
      "170781  107329  72576  64351      4   171.539570\n",
      "170782  107330  57900  36536      2  3287.348879\n",
      "170783  107330  36536  57900      2  3287.348879\n",
      "170784  107331  36545  48795      2  2891.109397\n",
      "170785  107331  48795  36545      2  2891.109397\n",
      "167616  107332  36541  37197      3   677.720685\n",
      "167617  107332  37197  36541      3   677.720685\n",
      "\n",
      "[188258 rows x 5 columns]\n"
     ]
    }
   ],
   "source": [
    "# Check Result\n",
    "print(edge_df)"
   ]
  },
  {
   "cell_type": "code",
   "execution_count": 19,
   "metadata": {},
   "outputs": [],
   "source": [
    "# Save road graph to csv\n",
    "graph_file = shp_name[:-4] + \"_graph.csv\"\n",
    "edge_df.to_pandas().to_csv(graph_file, index=False)"
   ]
  },
  {
   "cell_type": "code",
   "execution_count": 20,
   "metadata": {},
   "outputs": [],
   "source": [
    "# Save road modes to csv\n",
    "node_file = shp_name[:-4] + \"_nodes.csv\"\n",
    "node_df.to_pandas().to_csv(node_file, index=False)"
   ]
  },
  {
   "cell_type": "code",
   "execution_count": 21,
   "metadata": {},
   "outputs": [
    {
     "name": "stdout",
     "output_type": "stream",
     "text": [
      "[(0, 'S1100'), (1, 'S1200'), (2, 'S1400'), (3, 'S1500'), (4, 'S1630'), (5, 'S1640'), (6, 'S1710'), (7, 'S1730'), (8, 'S1740'), (9, 'S1750'), (10, 'S1780'), (11, 'S1820')]\n"
     ]
    }
   ],
   "source": [
    "# print mtfcc table (used to filter on road type)\n",
    "print([(i,m) for i,m in enumerate(mtfcc)])"
   ]
  },
  {
   "cell_type": "code",
   "execution_count": null,
   "metadata": {},
   "outputs": [],
   "source": []
  }
 ],
 "metadata": {
  "kernelspec": {
   "display_name": "Python 3",
   "language": "python",
   "name": "python3"
  },
  "language_info": {
   "codemirror_mode": {
    "name": "ipython",
    "version": 3
   },
   "file_extension": ".py",
   "mimetype": "text/x-python",
   "name": "python",
   "nbconvert_exporter": "python",
   "pygments_lexer": "ipython3",
   "version": "3.6.7"
  }
 },
 "nbformat": 4,
 "nbformat_minor": 4
}
