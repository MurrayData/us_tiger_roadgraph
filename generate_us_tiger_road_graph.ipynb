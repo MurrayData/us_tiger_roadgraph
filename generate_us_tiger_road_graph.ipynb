{
 "cells": [
  {
   "cell_type": "code",
   "execution_count": 1,
   "metadata": {},
   "outputs": [],
   "source": [
    "# Import libraries\n",
    "import cudf\n",
    "import pandas as pd\n",
    "from numba import cuda\n",
    "import shapefile as sh\n",
    "import numpy as np\n",
    "import math"
   ]
  },
  {
   "cell_type": "code",
   "execution_count": 2,
   "metadata": {},
   "outputs": [],
   "source": [
    "# Read in US Tiger Line Edge shapefile (Example here is King County)\n",
    "shp_name = \"/data/us_tiger/king_county/tl_2018_53033_edges.shp\"\n",
    "sf = sh.Reader(shp_name)"
   ]
  },
  {
   "cell_type": "code",
   "execution_count": 3,
   "metadata": {},
   "outputs": [],
   "source": [
    "# Get field positions for road type and nodes\n",
    "fields = list(zip(*sf.fields))\n",
    "mtfcc_pos = fields[0].index('MTFCC') - 1\n",
    "roadflg_pos = fields[0].index('ROADFLG') - 1\n",
    "nodef_pos = fields[0].index('TNIDF') - 1\n",
    "nodet_pos = fields[0].index('TNIDT') - 1"
   ]
  },
  {
   "cell_type": "code",
   "execution_count": null,
   "metadata": {},
   "outputs": [],
   "source": [
    "# Parse shape file into list of edges and their constituent vectors\n",
    "vectors = []\n",
    "edges = []\n",
    "# Read nodes into a dictionary to de-duplicate\n",
    "nodes = {}\n",
    "node_num = 0\n",
    "mtfcc = []\n",
    "# Iterate through shapefile shape objects\n",
    "for i,geo in enumerate(sf.shapes()):\n",
    "    # Get the shape attributes\n",
    "    attr = sf.record(i)\n",
    "    # Check that the edge is a road\n",
    "    if attr[roadflg_pos] == 'Y':\n",
    "        # Test if mtfcc (edge classification) is in list, if not add it\n",
    "        if attr[mtfcc_pos] not in mtfcc:\n",
    "            mtfcc += [attr[mtfcc_pos]]\n",
    "        # Test if from node exists\n",
    "        if attr[nodef_pos] not in nodes:\n",
    "            # If not, add it to the dictionary with coordinates of first point of vector\n",
    "            nodes[attr[nodef_pos]] = [node_num,geo.points[0][0],geo.points[0][1]]\n",
    "            node_num += 1\n",
    "        # Test if to node exists\n",
    "        if attr[nodet_pos] not in nodes:\n",
    "            # If not, add it to the dictionary with coordinates of last point of vector\n",
    "            nodes[attr[nodet_pos]] = [node_num,geo.points[-1][0],geo.points[-1][1]]\n",
    "            node_num += 1\n",
    "        # Add edge to table \n",
    "        edges += [[i,nodes[attr[nodef_pos]][0],nodes[attr[nodet_pos]][0],attr[mtfcc_pos]]]\n",
    "        # Add edge to table with from and too nodes reversed\n",
    "        edges += [[i,nodes[attr[nodet_pos]][0],nodes[attr[nodef_pos]][0],attr[mtfcc_pos]]]\n",
    "        # Unravel and serialise the vector points into a list\n",
    "        for p in geo.points:\n",
    "            vectors += [[i,p[0],p[1]]]\n",
    "# Sort mtfcc\n",
    "mtfcc.sort()"
   ]
  },
  {
   "cell_type": "code",
   "execution_count": null,
   "metadata": {},
   "outputs": [],
   "source": [
    "# Zip the vector points and copy to cudf DataFrame\n",
    "vz = list(zip(*vectors))\n",
    "vector_df = cudf.DataFrame()\n",
    "vector_df['id'] = vz[0]\n",
    "vector_df['lon'] = vz[1]\n",
    "vector_df['lat'] = vz[2]"
   ]
  },
  {
   "cell_type": "code",
   "execution_count": null,
   "metadata": {},
   "outputs": [],
   "source": [
    "# Zip the node points and copy to cudf DataFrame\n",
    "nz = list(zip(*sorted(nodes.values())))\n",
    "node_df = cudf.DataFrame()\n",
    "node_df['id'] = nz[0]\n",
    "node_df['lon'] = nz[1]\n",
    "node_df['lat'] = nz[2]"
   ]
  },
  {
   "cell_type": "code",
   "execution_count": null,
   "metadata": {},
   "outputs": [],
   "source": [
    "# Zip the edges and copy to cudf DataFrame\n",
    "ez = list(zip(*edges))\n",
    "edge_df = cudf.DataFrame()\n",
    "edge_df['id'] = ez[0]\n",
    "edge_df['src'] = ez[1]\n",
    "edge_df['dst'] = ez[2]\n",
    "edge_df['mtfcc'] = [mtfcc.index(m) for m in ez[3]]"
   ]
  },
  {
   "cell_type": "code",
   "execution_count": null,
   "metadata": {},
   "outputs": [],
   "source": [
    "# Check results on vector Dataframe\n",
    "print(vector_df)"
   ]
  },
  {
   "cell_type": "code",
   "execution_count": null,
   "metadata": {},
   "outputs": [],
   "source": [
    "# Check results on node Dataframe\n",
    "print(node_df)"
   ]
  },
  {
   "cell_type": "code",
   "execution_count": null,
   "metadata": {},
   "outputs": [],
   "source": [
    "# Check results on edge DataFrame\n",
    "print(edge_df)"
   ]
  },
  {
   "cell_type": "code",
   "execution_count": null,
   "metadata": {},
   "outputs": [],
   "source": [
    "# Define chunk size and parameters\n",
    "threads_per_block = 128\n",
    "trunk_size = 10240\n",
    "data_length = vector_df['id'].count()"
   ]
  },
  {
   "cell_type": "code",
   "execution_count": null,
   "metadata": {},
   "outputs": [],
   "source": [
    "# Haversine function for lengths\n",
    "@cuda.jit(device=True)\n",
    "def haversine_distance(lon_1, lat_1, lon_2, lat_2):\n",
    "    lon_1 = lon_1 * math.pi / 180.0 \n",
    "    lon_2 = lon_2 * math.pi / 180.0 \n",
    "    lat_1 = lat_1 * math.pi / 180.0 \n",
    "    lat_2 = lat_2 * math.pi / 180.0\n",
    "    d_lon = lon_2 - lon_1 \n",
    "    d_lat = lat_2 - lat_1 \n",
    "    a = math.sin(d_lat/2)**2 + math.cos(lat_1) * math.cos(lat_2) * math.sin(d_lon/2)**2\n",
    "    return 2 * math.asin(math.sqrt(a)) * 6371000.0"
   ]
  },
  {
   "cell_type": "code",
   "execution_count": null,
   "metadata": {},
   "outputs": [],
   "source": [
    "# Window function to calculate distance between adjacent points in feet\n",
    "def adjacent_distance(id, lon, lat, dist):\n",
    "    for i in range(cuda.threadIdx.x, id.size, cuda.blockDim.x):\n",
    "        # If the first point of vector return zero length\n",
    "        if i == 0:\n",
    "            dist[i] = 0.0\n",
    "        # Or if the vector changes (1st point of new vector)\n",
    "        elif id[i] != id[i-1]:\n",
    "            dist[i] = 0.0\n",
    "        else:\n",
    "            dist[i] = haversine_distance(lon[i],lat[i],lon[i-1],lat[i-1]) * 3.280839895013123"
   ]
  },
  {
   "cell_type": "code",
   "execution_count": null,
   "metadata": {},
   "outputs": [],
   "source": [
    "%%time\n",
    "# Apply the window function\n",
    "vector_df = vector_df.apply_chunks(adjacent_distance,\n",
    "                     incols=['id','lon','lat'],\n",
    "                     outcols=dict(dist=np.float64),\n",
    "                     kwargs=dict(),\n",
    "                     chunks=list(range(0, data_length,\n",
    "                                       trunk_size))+ [data_length],\n",
    "                     tpb=threads_per_block)"
   ]
  },
  {
   "cell_type": "code",
   "execution_count": null,
   "metadata": {},
   "outputs": [],
   "source": [
    "# Check the result\n",
    "print(vector_df)"
   ]
  },
  {
   "cell_type": "code",
   "execution_count": null,
   "metadata": {},
   "outputs": [],
   "source": [
    "%%time\n",
    "# Group by and sum the distances for each edge\n",
    "distance_df = vector_df[['id','dist']].groupby(['id']).sum()\n",
    "distance_df['id'] = distance_df.index"
   ]
  },
  {
   "cell_type": "code",
   "execution_count": null,
   "metadata": {},
   "outputs": [],
   "source": [
    "%%time\n",
    "# Merge the distances into the edge DataFrame to produce graph\n",
    "edge_df = edge_df.merge(distance_df,on=['id'], how='left').sort_values('id')"
   ]
  },
  {
   "cell_type": "code",
   "execution_count": null,
   "metadata": {},
   "outputs": [],
   "source": [
    "# Check Result\n",
    "print(edge_df)"
   ]
  },
  {
   "cell_type": "code",
   "execution_count": null,
   "metadata": {},
   "outputs": [],
   "source": [
    "# Save road graph to csv\n",
    "graph_file = shp_name[:-4] + \"_graph.csv\"\n",
    "edge_df.to_pandas().to_csv(graph_file, index=False)"
   ]
  },
  {
   "cell_type": "code",
   "execution_count": null,
   "metadata": {},
   "outputs": [],
   "source": [
    "# Save road modes to csv\n",
    "node_file = shp_name[:-4] + \"_nodes.csv\"\n",
    "node_df.to_pandas().to_csv(node_file, index=False)"
   ]
  },
  {
   "cell_type": "code",
   "execution_count": null,
   "metadata": {},
   "outputs": [],
   "source": [
    "# print mtfcc table (used to filter on road type)\n",
    "print([(i,m) for i,m in enumerate(mtfcc)])"
   ]
  },
  {
   "cell_type": "code",
   "execution_count": null,
   "metadata": {},
   "outputs": [],
   "source": []
  }
 ],
 "metadata": {
  "kernelspec": {
   "display_name": "Python 3",
   "language": "python",
   "name": "python3"
  },
  "language_info": {
   "codemirror_mode": {
    "name": "ipython",
    "version": 3
   },
   "file_extension": ".py",
   "mimetype": "text/x-python",
   "name": "python",
   "nbconvert_exporter": "python",
   "pygments_lexer": "ipython3",
   "version": "3.6.7"
  }
 },
 "nbformat": 4,
 "nbformat_minor": 4
}
